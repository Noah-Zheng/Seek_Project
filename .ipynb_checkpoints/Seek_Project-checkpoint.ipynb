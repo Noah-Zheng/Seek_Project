{
 "cells": [
  {
   "cell_type": "code",
   "execution_count": 2,
   "metadata": {},
   "outputs": [],
   "source": [
    "# _*_ coding: utf-8 _*_\n",
    "from bs4 import BeautifulSoup\n",
    "import requests\n",
    "import csv\n",
    "import json\n",
    "import pandas as pd\n",
    "import numpy as np"
   ]
  },
  {
   "cell_type": "code",
   "execution_count": 6,
   "metadata": {},
   "outputs": [
    {
     "name": "stdout",
     "output_type": "stream",
     "text": [
      "utf-8\n",
      "https://www.seek.com.au/data-jobs-in-information-communication-technology\n"
     ]
    }
   ],
   "source": [
    "url = 'https://www.seek.com.au/data-jobs-in-information-communication-technology'\n",
    "headers={ \"User-Agent\": \"Mozilla/5.0 (Windows NT 10.0; WOW64) AppleWebKit/537.36 (KHTML, like Gecko) Chrome/51.0.2704.103 Safari/537.36\"}\n",
    "response = requests.get(url=url, headers = headers)\n",
    "print(response.encoding)\n",
    "print(response.url)"
   ]
  },
  {
   "cell_type": "code",
   "execution_count": null,
   "metadata": {},
   "outputs": [],
   "source": []
  },
  {
   "cell_type": "code",
   "execution_count": 4,
   "metadata": {},
   "outputs": [],
   "source": [
    "# downloading web pages\n",
    "def download(url):\n",
    "    headers={ \"User-Agent\": \"Mozilla/5.0 (Windows NT 10.0; WOW64) AppleWebKit/537.36 (KHTML, like Gecko) Chrome/51.0.2704.103 Safari/537.36\"}\n",
    "    req = requests.get(url, headers=headers)\n",
    "    return req.text"
   ]
  },
  {
   "cell_type": "code",
   "execution_count": 20,
   "metadata": {},
   "outputs": [
    {
     "name": "stdout",
     "output_type": "stream",
     "text": [
      "['https://www.seek.com.au/job/36913038?type=promoted', 'https://www.seek.com.au/job/36706843?type=promoted', 'https://www.seek.com.au/job/36933761?type=standout', 'https://www.seek.com.au/job/36933135?type=standout', 'https://www.seek.com.au/job/36933372?type=standard', 'https://www.seek.com.au/job/36933033?type=standard', 'https://www.seek.com.au/job/36932893?type=standout', 'https://www.seek.com.au/job/36932829?type=standard', 'https://www.seek.com.au/job/36932501?type=standout', 'https://www.seek.com.au/job/36932477?type=standout', 'https://www.seek.com.au/job/36932332?type=standout', 'https://www.seek.com.au/job/36932238?type=standout', 'https://www.seek.com.au/job/36759843?type=standard', 'https://www.seek.com.au/job/36930908?type=standout', 'https://www.seek.com.au/job/36930527?type=standard', 'https://www.seek.com.au/job/36929805?type=standout', 'https://www.seek.com.au/job/36929717?type=standard', 'https://www.seek.com.au/job/36928594?type=standard', 'https://www.seek.com.au/job/36929032?type=standout', 'https://www.seek.com.au/job/36929006?type=standout', 'https://www.seek.com.au/job/36928759?type=standout', 'https://www.seek.com.au/job/36928771?type=standout']\n"
     ]
    },
    {
     "data": {
      "text/plain": [
       "22"
      ]
     },
     "execution_count": 20,
     "metadata": {},
     "output_type": "execute_result"
    }
   ],
   "source": [
    "html=download(url)\n",
    "soup = BeautifulSoup(html, 'lxml')\n",
    "body = soup.body\n",
    "#print(body)\n",
    "links = body.find_all('a', {'class': '_1EkZJQ7'}) #找到第一页里的各个post的链接\n",
    "websites=[]\n",
    "for link in links:\n",
    "    websites.append('https://www.seek.com.au' + link.get('href'))\n",
    "print(websites)\n",
    "len(websites)"
   ]
  },
  {
   "cell_type": "code",
   "execution_count": null,
   "metadata": {},
   "outputs": [],
   "source": []
  },
  {
   "cell_type": "code",
   "execution_count": null,
   "metadata": {},
   "outputs": [],
   "source": [
    "#parsing web text and get position infomation\n",
    "def get_webpages(html):\n",
    "    #get all job posts websites\n",
    "    soup = BeautifulSoup(html, 'lxml')\n",
    "    body = soup.body\n",
    "    links = body.find_all('a', {'class': '_1EkZJQ7'}) #找到第一页里的各个job post的链接\n",
    "    \n",
    "    webpages=[]\n",
    "    for link in links:\n",
    "        webpages.append('https://www.seek.com.au' + link.get('href'))\n",
    "    return webpages"
   ]
  },
  {
   "cell_type": "code",
   "execution_count": null,
   "metadata": {},
   "outputs": [],
   "source": [
    "basic_url =\n",
    "\n",
    "for i in range(10):\n",
    "    num = i+1\n",
    "    url = basic_url + '?page={}'.format(num) #get the 1 page\n",
    "    #find all job posts websites\n",
    "    "
   ]
  }
 ],
 "metadata": {
  "kernelspec": {
   "display_name": "Python 3",
   "language": "python",
   "name": "python3"
  },
  "language_info": {
   "codemirror_mode": {
    "name": "ipython",
    "version": 3
   },
   "file_extension": ".py",
   "mimetype": "text/x-python",
   "name": "python",
   "nbconvert_exporter": "python",
   "pygments_lexer": "ipython3",
   "version": "3.6.6"
  }
 },
 "nbformat": 4,
 "nbformat_minor": 2
}
