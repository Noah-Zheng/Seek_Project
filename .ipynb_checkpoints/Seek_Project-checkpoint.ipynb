{
 "cells": [
  {
   "cell_type": "code",
   "execution_count": 1,
   "metadata": {},
   "outputs": [],
   "source": [
    "# _*_ coding: utf-8 _*_\n",
    "from bs4 import BeautifulSoup\n",
    "import requests\n",
    "import csv\n",
    "import json\n",
    "import pandas as pd\n",
    "import numpy as np"
   ]
  },
  {
   "cell_type": "code",
   "execution_count": 7,
   "metadata": {},
   "outputs": [
    {
     "name": "stdout",
     "output_type": "stream",
     "text": [
      "UTF-8\n",
      "https://m.hays.com.au/search/?q=Data%20Analyst&location=Sydney,%20Australia&specialismId=&subSpecialismId=&locationf=&industryf=&sortType=0&jobType=-1&payTypefacet=-1&minPay=0&maxPay=11&jobSource=HaysGCJ\n"
     ]
    }
   ],
   "source": [
    "url = 'https://m.hays.com.au/search/?q=Data%20Analyst&location=Sydney,%20Australia&specialismId=&subSpecialismId=&locationf=&industryf=&sortType=0&jobType=-1&payTypefacet=-1&minPay=0&maxPay=11&jobSource=HaysGCJ'\n",
    "headers={ \"User-Agent\": \"Mozilla/5.0 (Windows NT 10.0; WOW64) AppleWebKit/537.36 (KHTML, like Gecko) Chrome/51.0.2704.103 Safari/537.36\"}\n",
    "response = requests.get(url=url, headers = headers)\n",
    "print(response.encoding)\n",
    "print(response.url)"
   ]
  },
  {
   "cell_type": "code",
   "execution_count": null,
   "metadata": {},
   "outputs": [],
   "source": []
  },
  {
   "cell_type": "code",
   "execution_count": 2,
   "metadata": {},
   "outputs": [],
   "source": [
    "# downloading web pages\n",
    "def download(url):\n",
    "    headers={ \"User-Agent\": \"Mozilla/5.0 (Windows NT 10.0; WOW64) AppleWebKit/537.36 (KHTML, like Gecko) Chrome/51.0.2704.103 Safari/537.36\"}\n",
    "    req = requests.get(url, headers=headers)\n",
    "    return req.text"
   ]
  },
  {
   "cell_type": "code",
   "execution_count": 8,
   "metadata": {},
   "outputs": [
    {
     "name": "stdout",
     "output_type": "stream",
     "text": [
      "[]\n"
     ]
    },
    {
     "data": {
      "text/plain": [
       "0"
      ]
     },
     "execution_count": 8,
     "metadata": {},
     "output_type": "execute_result"
    }
   ],
   "source": [
    "html=download(url)\n",
    "soup = BeautifulSoup(html, 'lxml')\n",
    "body = soup.body\n",
    "#print(body)\n",
    "links = body.find_all('a', {'class': '_1EkZJQ7'}) #找到第一页里的各个post的链接\n",
    "posts=[]\n",
    "for link in links:\n",
    "    posts.append('https://www.seek.com.au' + link.get('href'))\n",
    "print(posts)\n",
    "len(posts)"
   ]
  },
  {
   "cell_type": "code",
   "execution_count": null,
   "metadata": {},
   "outputs": [],
   "source": []
  },
  {
   "cell_type": "code",
   "execution_count": null,
   "metadata": {},
   "outputs": [],
   "source": [
    "#parsing web text and get position infomation\n",
    "def get_webpages(html):\n",
    "    #get all job posts pages\n",
    "    soup = BeautifulSoup(html, 'lxml')\n",
    "    body = soup.body\n",
    "    links = body.find_all('a', {'class': '_1EkZJQ7'}) #找到第一页里的各个job post的链接\n",
    "    \n",
    "    posts=[]\n",
    "    for link in links:\n",
    "        webpages.append('https://www.seek.com.au' + link.get('href'))\n",
    "    return posts"
   ]
  },
  {
   "cell_type": "code",
   "execution_count": null,
   "metadata": {},
   "outputs": [],
   "source": [
    "basic_url =\n",
    "\n",
    "for i in range(10):\n",
    "    num = i+1\n",
    "    url = basic_url + '?page={}'.format(num) #get the 1 page\n",
    "    #find all job posts websites\n",
    "    "
   ]
  }
 ],
 "metadata": {
  "kernelspec": {
   "display_name": "Python 3",
   "language": "python",
   "name": "python3"
  },
  "language_info": {
   "codemirror_mode": {
    "name": "ipython",
    "version": 3
   },
   "file_extension": ".py",
   "mimetype": "text/x-python",
   "name": "python",
   "nbconvert_exporter": "python",
   "pygments_lexer": "ipython3",
   "version": "3.6.6"
  }
 },
 "nbformat": 4,
 "nbformat_minor": 2
}
